{
 "cells": [
  {
   "cell_type": "code",
   "execution_count": null,
   "id": "97c90a54-3957-477d-bcdd-59b9eba70fec",
   "metadata": {},
   "outputs": [],
   "source": [
    "import tkinter as tk\n",
    "from tkinter import messagebox\n",
    "\n",
    "def calculate_bmi(weight, height):\n",
    "    return weight / (height ** 2)\n",
    "\n",
    "def categorize_bmi(bmi):\n",
    "    if bmi < 18.5:\n",
    "        return \"Underweight\"\n",
    "    elif 18.5 <= bmi < 24.9:\n",
    "        return \"Normal weight\"\n",
    "    elif 25 <= bmi < 29.9:\n",
    "        return \"Overweight\"\n",
    "    else:\n",
    "        return \"Obesity\"\n",
    "\n",
    "def calculate():\n",
    "    try:\n",
    "        weight = float(weight_entry.get())\n",
    "        height = float(height_entry.get())\n",
    "        \n",
    "        if weight <= 0 or height <= 0:\n",
    "            messagebox.showerror(\"Input Error\", \"Weight and height must be positive numbers.\")\n",
    "            return\n",
    "\n",
    "        bmi = calculate_bmi(weight, height)\n",
    "        category = categorize_bmi(bmi)\n",
    "\n",
    "        result_label.config(text=f\"Your BMI is: {bmi:.2f}\\nCategory: {category}\")\n",
    "\n",
    "        # Optional: Save the result to a file\n",
    "        with open(\"bmi_data.txt\", \"a\") as f:\n",
    "            f.write(f\"Weight: {weight}, Height: {height}, BMI: {bmi:.2f}, Category: {category}\\n\")\n",
    "\n",
    "    except ValueError:\n",
    "        messagebox.showerror(\"Input Error\", \"Please enter valid numerical values.\")\n",
    "\n",
    "# Set up the GUI\n",
    "app = tk.Tk()\n",
    "app.title(\"BMI Calculator\")\n",
    "\n",
    "tk.Label(app, text=\"Weight (kg):\").grid(row=0, column=0)\n",
    "weight_entry = tk.Entry(app)\n",
    "weight_entry.grid(row=0, column=1)\n",
    "\n",
    "tk.Label(app, text=\"Height (m):\").grid(row=1, column=0)\n",
    "height_entry = tk.Entry(app)\n",
    "height_entry.grid(row=1, column=1)\n",
    "\n",
    "calculate_button = tk.Button(app, text=\"Calculate BMI\", command=calculate)\n",
    "calculate_button.grid(row=2, columnspan=2)\n",
    "\n",
    "result_label = tk.Label(app, text=\"\")\n",
    "result_label.grid(row=3, columnspan=2)\n",
    "\n",
    "app.mainloop()\n"
   ]
  },
  {
   "cell_type": "code",
   "execution_count": null,
   "id": "ccdd83ee-3b80-4e39-a5f9-a617ec24e522",
   "metadata": {},
   "outputs": [],
   "source": []
  }
 ],
 "metadata": {
  "kernelspec": {
   "display_name": "Python 3 (ipykernel)",
   "language": "python",
   "name": "python3"
  },
  "language_info": {
   "codemirror_mode": {
    "name": "ipython",
    "version": 3
   },
   "file_extension": ".py",
   "mimetype": "text/x-python",
   "name": "python",
   "nbconvert_exporter": "python",
   "pygments_lexer": "ipython3",
   "version": "3.12.4"
  }
 },
 "nbformat": 4,
 "nbformat_minor": 5
}
